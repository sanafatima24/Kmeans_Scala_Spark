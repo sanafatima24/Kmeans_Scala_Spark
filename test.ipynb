{
 "cells": [
  {
   "cell_type": "code",
   "execution_count": 1,
   "metadata": {},
   "outputs": [],
   "source": [
    "# %pip install pyspark"
   ]
  },
  {
   "cell_type": "code",
   "execution_count": 1,
   "metadata": {},
   "outputs": [
    {
     "ename": "ModuleNotFoundError",
     "evalue": "No module named 'pyspark'",
     "output_type": "error",
     "traceback": [
      "\u001b[1;31m---------------------------------------------------------------------------\u001b[0m",
      "\u001b[1;31mModuleNotFoundError\u001b[0m                       Traceback (most recent call last)",
      "Cell \u001b[1;32mIn[1], line 1\u001b[0m\n\u001b[1;32m----> 1\u001b[0m \u001b[38;5;28;01mfrom\u001b[39;00m \u001b[38;5;21;01mpyspark\u001b[39;00m\u001b[38;5;21;01m.\u001b[39;00m\u001b[38;5;21;01msql\u001b[39;00m \u001b[38;5;28;01mimport\u001b[39;00m SparkSession\n\u001b[0;32m      2\u001b[0m \u001b[38;5;28;01mfrom\u001b[39;00m \u001b[38;5;21;01mpyspark\u001b[39;00m\u001b[38;5;21;01m.\u001b[39;00m\u001b[38;5;21;01msql\u001b[39;00m\u001b[38;5;21;01m.\u001b[39;00m\u001b[38;5;21;01mtypes\u001b[39;00m \u001b[38;5;28;01mimport\u001b[39;00m FloatType, IntegerType, StructType, StructField\n\u001b[0;32m      4\u001b[0m \u001b[38;5;66;03m# Create Spark session\u001b[39;00m\n",
      "\u001b[1;31mModuleNotFoundError\u001b[0m: No module named 'pyspark'"
     ]
    }
   ],
   "source": [
    "from pyspark.sql import SparkSession\n",
    "from pyspark.sql.types import FloatType, IntegerType, StructType, StructField\n",
    "\n",
    "# Create Spark session\n",
    "spark = SparkSession.builder.appName(\"WineQualityClustering\").getOrCreate()\n",
    "\n",
    "# Define the schema for the dataset\n",
    "schema = StructType([\n",
    "    StructField(\"fixed_acidity\", FloatType(), True),\n",
    "    StructField(\"volatile_acidity\", FloatType(), True),\n",
    "    StructField(\"citric_acid\", FloatType(), True),\n",
    "    StructField(\"residual_sugar\", FloatType(), True),\n",
    "    StructField(\"chlorides\", FloatType(), True),\n",
    "    StructField(\"free_sulfur_dioxide\", FloatType(), True),\n",
    "    StructField(\"total_sulfur_dioxide\", FloatType(), True),\n",
    "    StructField(\"density\", FloatType(), True),\n",
    "    StructField(\"pH\", FloatType(), True),\n",
    "    StructField(\"sulphates\", FloatType(), True),\n",
    "    StructField(\"alcohol\", FloatType(), True),\n",
    "    StructField(\"quality\", IntegerType(), True)\n",
    "])\n",
    "\n",
    "# Load the dataset\n",
    "df = spark.read.csv(\"path_to_your_dataset.csv\", schema=schema, header=True)\n",
    "\n",
    "# Check the schema and first few rows\n",
    "df.printSchema()\n",
    "df.show(5)"
   ]
  },
  {
   "cell_type": "code",
   "execution_count": null,
   "metadata": {},
   "outputs": [],
   "source": [
    "# # Create Spark session\n",
    "# spark = SparkSession.builder.appName(\"WineQualityClustering\").getOrCreate()\n",
    "\n",
    "# # Define the schema for the dataset\n",
    "# schema = StructType([\n",
    "#     StructField(\"fixed_acidity\", FloatType(), True),\n",
    "#     StructField(\"volatile_acidity\", FloatType(), True),\n",
    "#     StructField(\"citric_acid\", FloatType(), True),\n",
    "#     StructField(\"residual_sugar\", FloatType(), True),\n",
    "#     StructField(\"chlorides\", FloatType(), True),\n",
    "#     StructField(\"free_sulfur_dioxide\", FloatType(), True),\n",
    "#     StructField(\"total_sulfur_dioxide\", FloatType(), True),\n",
    "#     StructField(\"density\", FloatType(), True),\n",
    "#     StructField(\"pH\", FloatType(), True),\n",
    "#     StructField(\"sulphates\", FloatType(), True),\n",
    "#     StructField(\"alcohol\", FloatType(), True),\n",
    "#     StructField(\"quality\", IntegerType(), True)\n",
    "# ])\n",
    "\n",
    "# # Load the dataset\n",
    "# df = spark.read.csv(\"/kaggle/input/red-wine-quality-cortez-et-al-2009/winequality-red.csv\", schema=schema, header=True)\n",
    "\n",
    "# # Check the schema and first few rows\n",
    "# df.printSchema()\n",
    "# # df.show(5)\n"
   ]
  },
  {
   "cell_type": "code",
   "execution_count": null,
   "metadata": {},
   "outputs": [],
   "source": [
    "\n",
    "# # Initialize Spark session\n",
    "# spark = SparkSession.builder.appName(\"WineQuality\").getOrCreate()\n",
    "\n",
    "# # Read the CSV file\n",
    "# wine_data = spark.read.csv(\"/kaggle/input/red-wine-quality-cortez-et-al-2009/winequality-red.csv\", header=True, inferSchema=True)\n",
    "\n",
    "# # Rename the columns to match the expected schema\n",
    "# df = wine_data \\\n",
    "#     .withColumnRenamed(\"fixed acidity\", \"fixed_acidity\") \\\n",
    "#     .withColumnRenamed(\"volatile acidity\", \"volatile_acidity\") \\\n",
    "#     .withColumnRenamed(\"citric acid\", \"citric_acid\") \\\n",
    "#     .withColumnRenamed(\"residual sugar\", \"residual_sugar\") \\\n",
    "#     .withColumnRenamed(\"free sulfur dioxide\", \"free_sulfur_dioxide\") \\\n",
    "#     .withColumnRenamed(\"total sulfur dioxide\", \"total_sulfur_dioxide\")\n",
    "\n",
    "# # Show the updated schema\n",
    "# df.printSchema()\n"
   ]
  },
  {
   "cell_type": "code",
   "execution_count": null,
   "metadata": {},
   "outputs": [],
   "source": [
    "# # Select features and assemble them into a single feature vector\n",
    "# feature_columns = df.columns[:-1]  # Exclude the 'quality' column\n",
    "# assembler = VectorAssembler(inputCols=feature_columns, outputCol=\"features\")\n",
    "# df_features = assembler.transform(df)\n",
    "\n",
    "# # Show the transformed dataset with features\n",
    "# df_features.select(\"features\").show(5, truncate=False)"
   ]
  },
  {
   "cell_type": "code",
   "execution_count": null,
   "metadata": {},
   "outputs": [],
   "source": [
    "# # Set the number of clusters\n",
    "# k = 3  # You can experiment with different values for k\n",
    "\n",
    "# # Initialize k-means with default parameters\n",
    "# kmeans = KMeans(featuresCol=\"features\", k=k)\n",
    "\n",
    "# # Fit the model to the dataset\n",
    "# model = kmeans.fit(df_features)\n",
    "\n",
    "# # Make predictions\n",
    "# predictions = model.transform(df_features)\n",
    "\n",
    "# # Show the predicted clusters\n",
    "# predictions.select(\"features\", \"prediction\").show(5, truncate=False)\n",
    "\n",
    "# # Evaluate clustering by computing Silhouette score\n",
    "# evaluator = ClusteringEvaluator(featuresCol=\"features\", metricName=\"silhouette\", distanceMeasure=\"squaredEuclidean\")\n",
    "# silhouette_score = evaluator.evaluate(predictions)\n",
    "# print(f\"Silhouette Score: {silhouette_score}\")\n"
   ]
  }
 ],
 "metadata": {
  "kernelspec": {
   "display_name": "Python 3",
   "language": "python",
   "name": "python3"
  },
  "language_info": {
   "codemirror_mode": {
    "name": "ipython",
    "version": 3
   },
   "file_extension": ".py",
   "mimetype": "text/x-python",
   "name": "python",
   "nbconvert_exporter": "python",
   "pygments_lexer": "ipython3",
   "version": "3.12.0"
  }
 },
 "nbformat": 4,
 "nbformat_minor": 2
}
